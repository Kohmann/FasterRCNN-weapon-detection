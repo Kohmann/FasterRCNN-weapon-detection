{
  "nbformat": 4,
  "nbformat_minor": 0,
  "metadata": {
    "colab": {
      "name": "ObjectDetectionPytorchXRAY.ipynb",
      "provenance": [],
      "collapsed_sections": []
    },
    "kernelspec": {
      "name": "python3",
      "display_name": "Python 3"
    }
  },
  "cells": [
    {
      "cell_type": "code",
      "metadata": {
        "colab": {
          "base_uri": "https://localhost:8080/"
        },
        "id": "sLe6HPMEwc7H",
        "outputId": "c3653487-d0cc-4a25-883f-b79ea21ab150"
      },
      "source": [
        "import os\n",
        "import pycocotools\n",
        "os.getcwd()\n"
      ],
      "execution_count": null,
      "outputs": [
        {
          "output_type": "stream",
          "text": [
            "sample_data\n"
          ],
          "name": "stdout"
        }
      ]
    },
    {
      "cell_type": "code",
      "metadata": {
        "id": "E5ixWRsQwpdf"
      },
      "source": [
        "%%bash\n",
        "git clone https://github.com/pytorch/vision.git\n",
        "cd vision\n",
        "git checkout v0.3.0\n",
        "cp references/detection/utils.py ../\n",
        "cp references/detection/transforms.py ../\n",
        "cp references/detection/coco_eval.py ../\n",
        "cp references/detection/engine.py ../\n",
        "cp references/detection/coco_utils.py ../"
      ],
      "execution_count": null,
      "outputs": []
    },
    {
      "cell_type": "code",
      "metadata": {
        "id": "jDVijTAVxF75"
      },
      "source": [
        "import numpy as np\n",
        "import torch\n",
        "import torch.utils.data\n",
        "from PIL import Image\n",
        "from PIL import ImageDraw\n",
        "import pandas as pd\n",
        "from torchvision.models.detection.faster_rcnn import FastRCNNPredictor\n",
        "from engine import train_one_epoch, evaluate\n",
        "import utils\n",
        "import transforms as T\n",
        "import torchvision\n",
        "import xml.etree.ElementTree as ET\n",
        "import glob\n",
        "#import nye funksjonen vår"
      ],
      "execution_count": null,
      "outputs": []
    },
    {
      "cell_type": "code",
      "metadata": {
        "id": "S3vY-XF9xKPi"
      },
      "source": [
        "from google.colab import drive\n",
        "drive.mount('/content/drive')\n",
        "pathDataset = 'drive/MyDrive/Baggages'\n",
        "# bytt ut med nye \n",
        "#imgbbox = load_dataset(pathDataset, deleteFiles=False)\n",
        "\n"
      ],
      "execution_count": null,
      "outputs": []
    },
    {
      "cell_type": "code",
      "metadata": {
        "id": "gZUfIHi7xKSu"
      },
      "source": [
        "class GunDataset(torch.utils.data.Dataset):\n",
        "    \n",
        "    def __init__(self, dicPics,categories, path, transforms=None): \n",
        "        self.path = path\n",
        "        self.dicPics = dicPics\n",
        "        self.transforms = transforms\n",
        "        self.categories = categories\n",
        "        self.imgs = [o for o in imgbbox]\n",
        "\n",
        "    def __getitem__(self, idx):\n",
        "        img = Image.open(self.path +\"/\"+ self.imgs[idx]).convert(\"RGB\")        \n",
        "        box_list = self.dicPics[self.imgs[idx]][0]\n",
        "        \n",
        "        boxes = torch.as_tensor(box_list, dtype=torch.float32)\n",
        "        num_objs = len(box_list)\n",
        "        labels_list =  self.dicPics[self.imgs[idx]][1]\n",
        "\n",
        "        # there is only one class\n",
        "        #labels = torch.ones((num_objs,), dtype=torch.int64) \n",
        "\n",
        "        # multible classes\n",
        "        labels = torch.zeros((num_objs,), dtype=torch.int64)\n",
        "\n",
        "        for i in range(num_objs):\n",
        "          labels[i] = self.categories[labels_list[i]]\n",
        "        #print(labels)\n",
        "        image_id = torch.tensor([idx])\n",
        "        area = (boxes[:, 3] - boxes[:, 1]) * (boxes[:, 2] - boxes[:,0])\n",
        "\n",
        "        # suppose all instances are not crowd\n",
        "        iscrowd = torch.zeros((num_objs,), dtype=torch.int64)\n",
        "        target = {}\n",
        "        target[\"boxes\"] = boxes\n",
        "        target[\"labels\"] = labels\n",
        "        target[\"image_id\"] = image_id\n",
        "        target[\"area\"] = area\n",
        "        target[\"iscrowd\"] = iscrowd\n",
        "        \n",
        "        if self.transforms is not None:\n",
        "            img, target = self.transforms(img, target)\n",
        "        \n",
        "        return img, target\n",
        "    \n",
        "    def __len__(self):\n",
        "        return len(self.imgs)"
      ],
      "execution_count": null,
      "outputs": []
    },
    {
      "cell_type": "code",
      "metadata": {
        "id": "9gm_Rco3xKVq"
      },
      "source": [
        "cat = {'handgun': 1,'knife': 2, 'razorblade': 3, 'shuriken': 4}\n",
        "dataset = GunDataset(dicPics = imgbbox,categories = cat, path = pathDataset, transforms = None)\n",
        "dataset.__getitem__(10)"
      ],
      "execution_count": null,
      "outputs": []
    },
    {
      "cell_type": "code",
      "metadata": {
        "id": "f3v1JzQixKZa"
      },
      "source": [
        "testimg = 'B0015_0001.png'\n",
        "image = Image.open(pathDataset +\"/\"+ testimg)\n",
        "image"
      ],
      "execution_count": null,
      "outputs": []
    },
    {
      "cell_type": "code",
      "metadata": {
        "id": "16q9Xn5_xKct"
      },
      "source": [
        "def get_model(num_classes):\n",
        "  # load an object detection model pre-trained on COCO\n",
        "  model = torchvision.models.detection.fasterrcnn_resnet50_fpn(pretrained=True)\n",
        "  # get the number of input features for the classifier\n",
        "  in_features = model.roi_heads.box_predictor.cls_score.in_features\n",
        "  # replace the pre-trained head with a new on\n",
        "  model.roi_heads.box_predictor = FastRCNNPredictor(in_features,num_classes)\n",
        "   \n",
        "  return model"
      ],
      "execution_count": null,
      "outputs": []
    },
    {
      "cell_type": "code",
      "metadata": {
        "id": "Od8OueQUxKeV"
      },
      "source": [
        "def get_transform(train):\n",
        "    transforms = []\n",
        "   # converts the image, a PIL image, into a PyTorch Tensor\n",
        "    transforms.append(T.ToTensor())\n",
        "    if train:\n",
        "      # during training, randomly flip the training images\n",
        "      # and ground-truth for data augmentation\n",
        "        transforms.append(T.RandomHorizontalFlip(0.5))\n",
        "    return T.Compose(transforms)"
      ],
      "execution_count": null,
      "outputs": []
    },
    {
      "cell_type": "code",
      "metadata": {
        "id": "FZwV4hFpxKhc"
      },
      "source": [
        "# use our dataset and defined transformations\n",
        "dataset = GunDataset(dicPics=imgbbox, categories = cat, path = pathDataset, transforms = get_transform(train=True))         # Training\n",
        "dataset_test = GunDataset(dicPics = imgbbox, categories = cat, path = pathDataset, transforms = get_transform(train=False)) # Testing\n",
        "\n",
        "# split the dataset in train and test set\n",
        "torch.manual_seed(1)\n",
        "indices = torch.randperm(len(dataset)).tolist()\n",
        "dataset = torch.utils.data.Subset(dataset, indices[:-40])  \n",
        "#dataset = torch.utils.data.Subset(dataset, indices[:100])  # testing\n",
        "\n",
        "dataset_test = torch.utils.data.Subset(dataset_test, indices[-40:])\n",
        "#dataset_test = torch.utils.data.Subset(dataset_test, indices[-30:])\n",
        "\n",
        "\n",
        "# define training and validation data loaders\n",
        "data_loader = torch.utils.data.DataLoader(\n",
        "              dataset, batch_size=2, shuffle=True, num_workers=4,\n",
        "              collate_fn=utils.collate_fn)\n",
        "\n",
        "data_loader_test = torch.utils.data.DataLoader(\n",
        "         dataset_test, batch_size=1, shuffle=False, num_workers=4,\n",
        "         collate_fn=utils.collate_fn)\n",
        "\n",
        "print(\"We have: {} examples, {} are training and {} testing\".format(len(indices), len(dataset), len(dataset_test)))"
      ],
      "execution_count": null,
      "outputs": []
    },
    {
      "cell_type": "code",
      "metadata": {
        "id": "5xsBOeUKxKl-"
      },
      "source": [
        "torch.cuda.is_available()"
      ],
      "execution_count": null,
      "outputs": []
    },
    {
      "cell_type": "code",
      "metadata": {
        "id": "Gi1vWJ-mxKk1"
      },
      "source": [
        "device = torch.device('cuda') if torch.cuda.is_available() else torch.device('cpu')\n",
        "# our dataset has two classes only - gun and not gun\n",
        "num_classes = 3\n",
        "# get the model using our helper function\n",
        "model = get_model(num_classes)\n",
        "# move model to the right device\n",
        "model.to(device)\n",
        "# construct an optimizer\n",
        "params = [p for p in model.parameters() if p.requires_grad]\n",
        "optimizer = torch.optim.SGD(params, lr=0.005, momentum=0.9, weight_decay=0.0005)\n",
        "\n",
        "# and a learning rate scheduler which decreases the learning rate by # 10x every 3 epochs\n",
        "\n",
        "lr_scheduler = torch.optim.lr_scheduler.StepLR(optimizer, step_size=3, gamma=0.1)"
      ],
      "execution_count": null,
      "outputs": []
    },
    {
      "cell_type": "markdown",
      "metadata": {
        "id": "UineMDsFxceo"
      },
      "source": [
        "# TRAIN NEW MODEL"
      ]
    },
    {
      "cell_type": "code",
      "metadata": {
        "id": "IIUC-ngQxXyc"
      },
      "source": [
        "num_epochs = 0\n",
        "for epoch in range(num_epochs):\n",
        "   # train for one epoch, printing every 10 iterations\n",
        "    train_one_epoch(model, optimizer, data_loader, device, epoch, print_freq=10)\n",
        "# update the learning rate\n",
        "\n",
        "    lr_scheduler.step()\n",
        "   # evaluate on the test dataset\n",
        "   # evaluate(model, data_loader_test, device=device)"
      ],
      "execution_count": null,
      "outputs": []
    },
    {
      "cell_type": "code",
      "metadata": {
        "id": "kZOuCIrixX1M"
      },
      "source": [
        " # Saves model to folder trainedModels/XRAY\n",
        "    \n",
        "path_trnd_model = \"drive/MyDrive/trainedModels/XRAY\"\n",
        "model_name = \"model_\"+str(len(cat))+\"Classes_\"+str(num_epochs)+\"epochs\"\n",
        "\n",
        "if os.path.isdir(path_trnd_model) is False:\n",
        "    os.mkdir(path_trnd_model)\n",
        "\n",
        "state = {'epoch': num_epochs +1, 'state_dict': model.state_dict(), 'optimizer': optimizer.state_dict() }\n",
        "torch.save(state, path_trnd_model+\"/\"+model_na,e)\n",
        "\n",
        "#torch.save(model.state_dict(), )"
      ],
      "execution_count": null,
      "outputs": []
    },
    {
      "cell_type": "markdown",
      "metadata": {
        "id": "fL3PnE-Txp8T"
      },
      "source": [
        "#TRAIN OLD MODEL"
      ]
    },
    {
      "cell_type": "code",
      "metadata": {
        "id": "PRevJETLxX4B"
      },
      "source": [
        "def load_checkpoint(model, optimizer=None, filename=None):\n",
        "    # Note: Input model & optimizer should be pre-defined.  This routine only updates their states.\n",
        "    start_epoch = 0\n",
        "    if os.path.isfile(filename):\n",
        "        print(\"=> loading checkpoint '{}'\".format(filename))\n",
        "        checkpoint = torch.load(filename)\n",
        "        start_epoch = checkpoint['epoch']\n",
        "        model.load_state_dict(checkpoint['state_dict'])\n",
        "        if optimizer is not None:\n",
        "          optimizer.load_state_dict(checkpoint['optimizer'])\n",
        "        print(\"=> loaded checkpoint '{}' (epoch {})\".format(filename, checkpoint['epoch']))\n",
        "    else:\n",
        "        print(\"=> no checkpoint found at '{}'\".format(filename))\n",
        "\n",
        "    return model, optimizer, start_epoch"
      ],
      "execution_count": null,
      "outputs": []
    },
    {
      "cell_type": "markdown",
      "metadata": {
        "id": "VXZbxISzzWv8"
      },
      "source": [
        "Name and path of old model"
      ]
    },
    {
      "cell_type": "code",
      "metadata": {
        "id": "GfY35zeLzVkn"
      },
      "source": [
        "path_trnd_model = \"drive/MyDrive/trainedModels\"\n",
        "# model_numClasses_(num trained epochs)epochs\n",
        "model_name = \"model_5Classes_10epochs\""
      ],
      "execution_count": null,
      "outputs": []
    },
    {
      "cell_type": "code",
      "metadata": {
        "id": "OS9Y9ECb1Z8-"
      },
      "source": [
        "model, optimizer, start_epoch = load_checkpoint(get_model(num_classes = 3), optimizer, filename=path_trnd_model+\"/\"+model_name)\n",
        "model = model.to(device)\n",
        "\n",
        "# individually transfer the optimizer parts...\n",
        "for state in optimizer.state.values():\n",
        "    for k, v in state.items():\n",
        "        if isinstance(v, torch.Tensor):\n",
        "            state[k] = v.to(device)"
      ],
      "execution_count": null,
      "outputs": []
    },
    {
      "cell_type": "code",
      "metadata": {
        "id": "Jd6jmP73xKgU"
      },
      "source": [
        "# let's train it for 0 epochs\n",
        "num_epochs = 0\n",
        "for epoch in range(num_epochs):\n",
        "    # train for one epoch, printing every 10 iterations\n",
        "    train_one_epoch(model, optimizer, data_loader, device, epoch, print_freq=10)\n",
        "\n",
        "    # update the learning rate\n",
        "    lr_scheduler.step()\n",
        "   # evaluate on the test dataset\n",
        "   # evaluate(model, data_loader_test, device=device)"
      ],
      "execution_count": null,
      "outputs": []
    },
    {
      "cell_type": "markdown",
      "metadata": {
        "id": "fLAn2yNg2kb_"
      },
      "source": [
        "Save model for further training or save it for good"
      ]
    },
    {
      "cell_type": "code",
      "metadata": {
        "id": "i6xktKcG2pyp"
      },
      "source": [
        "saveForGood = False"
      ],
      "execution_count": null,
      "outputs": []
    },
    {
      "cell_type": "code",
      "metadata": {
        "id": "CGy3mL31x0-6"
      },
      "source": [
        "if saveForGood:\n",
        "    state = {'epoch': num_epochs +1, 'state_dict': model.state_dict(), 'optimizer': optimizer.state_dict() }\n",
        "    torch.save(state, path_trnd_model+\"/\"model_name)\n",
        "else:\n",
        "    # Saves the final model, not trainable anymore\n",
        "    torch.save(model.state_dict(), path_trnd_model+\"/\"+model_name + \"finished\")\n"
      ],
      "execution_count": null,
      "outputs": []
    },
    {
      "cell_type": "markdown",
      "metadata": {
        "id": "5Yb-GeFPx6KK"
      },
      "source": [
        "#PREDICT"
      ]
    },
    {
      "cell_type": "code",
      "metadata": {
        "id": "4VcmX8rOx1Iv"
      },
      "source": [
        "# To load trained model\n",
        "path_trnd_model = \"drive/MyDrive/trainedModels/XRAY\"\n",
        "model_name = \"model_5Classes_10epochs_finished\"\n",
        "\n",
        "loaded_model = get_model(num_classes = 3)\n",
        "\n",
        "if os.path.isfile(path_trnd_model +\"/\"+ model_name)):\n",
        "    loaded_model.load_state_dict(torch.load( path_trnd_model +\"/\"+ model_name))\n",
        "else:\n",
        "    print(\"Wrong path or filename\")"
      ],
      "execution_count": null,
      "outputs": []
    },
    {
      "cell_type": "code",
      "metadata": {
        "id": "XlS3Hy-5x1Kf"
      },
      "source": [
        "\n",
        "#idx = 1\n",
        "for idx in range(1):\n",
        "\n",
        "    img, _ = dataset_test[idx]\n",
        "    label_boxes = np.array(dataset_test[idx][1][\"boxes\"])\n",
        "    #put the model in evaluation mode\n",
        "    loaded_model.eval()\n",
        "    with torch.no_grad():\n",
        "        prediction = loaded_model([img])\n",
        "    image = Image.fromarray(img.mul(255).permute(1, 2,0).byte().numpy())\n",
        "    draw = ImageDraw.Draw(image)\n",
        "\n",
        "    cat_rev = {cat[o]: o for o in cat}\n",
        "    # draw groundtruth\n",
        "    for elem in range(len(label_boxes)):\n",
        "        draw.rectangle([(label_boxes[elem][0], label_boxes[elem][1]),\n",
        "        (label_boxes[elem][2], label_boxes[elem][3])], \n",
        "        outline =\"green\", width =3)\n",
        "        \n",
        "    for element in range(len(prediction[0][\"boxes\"])):\n",
        "\n",
        "        boxes = prediction[0][\"boxes\"][element].cpu().numpy()\n",
        "        score = np.round(prediction[0][\"scores\"][element].cpu().numpy(),\n",
        "                        decimals= 4)\n",
        "        if score > 0.7:\n",
        "            draw.rectangle([(boxes[0], boxes[1]), (boxes[2], boxes[3])], outline =\"red\", width =3)\n",
        "            draw.text((boxes[0], boxes[1]), text = str(score)+ \" \" + cat_rev[np.int(prediction[0][\"labels\"][element])] , fill=\"#000\")\n",
        "    display(image)\n"
      ],
      "execution_count": null,
      "outputs": []
    }
  ]
}