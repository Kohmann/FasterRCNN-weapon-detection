{
 "cells": [
  {
   "cell_type": "markdown",
   "metadata": {},
   "source": [
    "# Imports"
   ]
  },
  {
   "cell_type": "code",
   "execution_count": 13,
   "metadata": {},
   "outputs": [],
   "source": [
    "import numpy as np\n",
    "import matplotlib.pyplot as plt\n",
    "import tensorflow.keras as keras\n",
    "import os\n",
    "import cv2\n",
    "from sklearn.model_selection import train_test_split\n",
    "import xml.etree.ElementTree as ET\n",
    "import glob\n",
    "from tensorflow.keras.models import Sequential\n",
    "from tensorflow.keras import layers"
   ]
  },
  {
   "cell_type": "markdown",
   "metadata": {},
   "source": [
    "# Get train images of weapons"
   ]
  },
  {
   "cell_type": "code",
   "execution_count": 2,
   "metadata": {
    "scrolled": false
   },
   "outputs": [],
   "source": [
    "if 'BaggagesData' is not os.getcwd():\n",
    "    os.chdir('../BaggagesData')\n",
    "\n",
    "folderPath = '../BaggagesData'\n",
    "dim = (800,800)\n",
    "\n",
    "x_train = []\n",
    "for folder in os.listdir(folderPath):\n",
    "    if 'B00' in folder:\n",
    "        for file in os.listdir(folderPath+\"/\"+folder):\n",
    "            temp = cv2.imread(os.path.join(folderPath+\"/\"+folder,file))\n",
    "            if temp is not None:\n",
    "                temp = cv2.resize(temp, dim, interpolation=cv2.INTER_CUBIC)\n",
    "                x_train.append(temp)\n",
    "\n",
    "#x_train = np.array(x_train)\n",
    "#print(x_train.shape)"
   ]
  },
  {
   "cell_type": "markdown",
   "metadata": {},
   "source": [
    "# Get test images of weapons"
   ]
  },
  {
   "cell_type": "code",
   "execution_count": 3,
   "metadata": {},
   "outputs": [],
   "source": [
    "x_test = []\n",
    "for file in os.listdir(folderPath+\"/Test\"):\n",
    "    temp = cv2.imread(os.path.join(folderPath+\"/Test\",file))\n",
    "    if temp is not None:\n",
    "        temp = cv2.resize(temp, dim, interpolation=cv2.INTER_CUBIC)\n",
    "        x_test.append(temp)\n",
    "                \n",
    "#x_test = np.array(x_test)\n",
    "#n_test = len(x_test)\n",
    "#print(x_test.shape)"
   ]
  },
  {
   "cell_type": "markdown",
   "metadata": {},
   "source": [
    "# Get images with no weapons"
   ]
  },
  {
   "cell_type": "code",
   "execution_count": 4,
   "metadata": {
    "scrolled": true
   },
   "outputs": [],
   "source": [
    "no_wep = []\n",
    "for file in os.listdir(folderPath+\"/no_wep\"):\n",
    "    temp = cv2.imread(os.path.join(folderPath+\"/no_wep\",file))\n",
    "    if temp is not None:\n",
    "        temp = cv2.resize(temp, dim, interpolation=cv2.INTER_CUBIC)\n",
    "        #temp = cv2.cvtColor(temp, cv2.COLOR_BGR2GRAY)\n",
    "        no_wep.append(temp)\n",
    "\n",
    "#n_no_wep = len(no_wep)\n",
    "#no_wep = np.array(no_wep)\n",
    "#print(no_wep.shape)"
   ]
  },
  {
   "cell_type": "markdown",
   "metadata": {},
   "source": [
    "# Add no_weapon data to x_train and x_test"
   ]
  },
  {
   "cell_type": "code",
   "execution_count": 5,
   "metadata": {},
   "outputs": [],
   "source": [
    "x_train.extend(no_wep[:12])\n",
    "x_test.extend(no_wep[12:])"
   ]
  },
  {
   "cell_type": "code",
   "execution_count": 6,
   "metadata": {
    "scrolled": true
   },
   "outputs": [
    {
     "name": "stdout",
     "output_type": "stream",
     "text": [
      "[[[238 238 238]\n",
      "  [237 237 237]\n",
      "  [235 235 235]\n",
      "  ...\n",
      "  [240 240 240]\n",
      "  [240 240 240]\n",
      "  [237 237 237]]\n",
      "\n",
      " [[240 240 240]\n",
      "  [238 238 238]\n",
      "  [238 238 238]\n",
      "  ...\n",
      "  [239 239 239]\n",
      "  [238 238 238]\n",
      "  [235 235 235]]\n",
      "\n",
      " [[238 238 238]\n",
      "  [237 237 237]\n",
      "  [236 236 236]\n",
      "  ...\n",
      "  [233 233 233]\n",
      "  [232 232 232]\n",
      "  [235 235 235]]\n",
      "\n",
      " ...\n",
      "\n",
      " [[234 234 234]\n",
      "  [236 236 236]\n",
      "  [237 237 237]\n",
      "  ...\n",
      "  [238 238 238]\n",
      "  [238 238 238]\n",
      "  [238 238 238]]\n",
      "\n",
      " [[234 234 234]\n",
      "  [236 236 236]\n",
      "  [237 237 237]\n",
      "  ...\n",
      "  [238 238 238]\n",
      "  [238 238 238]\n",
      "  [238 238 238]]\n",
      "\n",
      " [[236 236 236]\n",
      "  [236 236 236]\n",
      "  [237 237 237]\n",
      "  ...\n",
      "  [238 238 238]\n",
      "  [237 237 237]\n",
      "  [237 237 237]]]\n",
      "65 958\n"
     ]
    }
   ],
   "source": [
    "x_train = np.array(x_train)\n",
    "x_test = np.array(x_test)\n",
    "\n",
    "print(len(x_test), len(x_train))"
   ]
  },
  {
   "cell_type": "markdown",
   "metadata": {},
   "source": [
    "# Create categorical labels"
   ]
  },
  {
   "cell_type": "code",
   "execution_count": 7,
   "metadata": {},
   "outputs": [
    {
     "name": "stdout",
     "output_type": "stream",
     "text": [
      "(958, 800, 800, 3) (65, 800, 800, 3)\n"
     ]
    }
   ],
   "source": [
    "n_categories = 2\n",
    "train_wep = 12\n",
    "test_wep = 4\n",
    "\n",
    "print(x_train.shape, x_test.shape)\n",
    "y_train = np.ones(len(x_train))\n",
    "y_train[-train_wep:] = 2\n",
    "y_train = keras.utils.to_categorical(y_train-1, n_categories)\n",
    "\n",
    "y_test = np.ones(len(x_test))\n",
    "y_test[-test_wep:] = 2\n",
    "y_test = keras.utils.to_categorical(y_test-1, n_categories)"
   ]
  },
  {
   "cell_type": "markdown",
   "metadata": {},
   "source": [
    "# Train the model"
   ]
  },
  {
   "cell_type": "code",
   "execution_count": 18,
   "metadata": {
    "scrolled": false
   },
   "outputs": [
    {
     "name": "stdout",
     "output_type": "stream",
     "text": [
      "Epoch 1/3\n",
      "30/30 [==============================] - 53s 2s/step - loss: 13.1087 - accuracy: 0.9666 - precision_4: 0.9666 - recall_4: 0.9666 - val_loss: 11.4042 - val_accuracy: 0.9385 - val_precision_4: 0.9385 - val_recall_4: 0.9385\n",
      "Epoch 2/3\n",
      "30/30 [==============================] - 54s 2s/step - loss: 0.9858 - accuracy: 0.9395 - precision_4: 0.9395 - recall_4: 0.9395 - val_loss: 0.6719 - val_accuracy: 0.9385 - val_precision_4: 0.9385 - val_recall_4: 0.9385\n",
      "Epoch 3/3\n",
      "30/30 [==============================] - 53s 2s/step - loss: 0.6556 - accuracy: 0.9875 - precision_4: 0.9875 - recall_4: 0.9875 - val_loss: 0.6465 - val_accuracy: 0.9385 - val_precision_4: 0.9385 - val_recall_4: 0.9385\n"
     ]
    },
    {
     "data": {
      "text/plain": [
       "<tensorflow.python.keras.callbacks.History at 0x7f856de4fb00>"
      ]
     },
     "execution_count": 18,
     "metadata": {},
     "output_type": "execute_result"
    }
   ],
   "source": [
    "n, y, x, d = x_train.shape\n",
    "inputShape = (y,x,d)\n",
    "n_iterations = 3\n",
    "\n",
    "model = Sequential()\n",
    "model.add(layers.Conv2D(8, (2, 2), activation='relu', input_shape=inputShape))\n",
    "model.add(layers.MaxPooling2D(pool_size=(2, 2)))\n",
    "model.add(layers.Conv2D(4, (2, 2), activation='relu'))\n",
    "model.add(layers.MaxPooling2D(pool_size=(2, 2)))\n",
    "#model.add(layers.Conv2D(2, (2, 2), activation='relu'))\n",
    "model.add(layers.Flatten())\n",
    "model.add(layers.Dense(8, activation='relu'))\n",
    "model.add(layers.Dense(units = n_categories, activation='softmax'))\n",
    "\n",
    "# compiling model with cross entropy and accuracy\n",
    "model.compile(loss='categorical_crossentropy', metrics=['accuracy', keras.metrics.Precision(), keras.metrics.Recall()])\n",
    "\n",
    "# training model\n",
    "model.fit(x_train, y_train, epochs=n_iterations, verbose=1, validation_data=(x_test, y_test))"
   ]
  },
  {
   "cell_type": "markdown",
   "metadata": {},
   "source": [
    "# Testing the model"
   ]
  },
  {
   "cell_type": "code",
   "execution_count": 21,
   "metadata": {},
   "outputs": [
    {
     "name": "stdout",
     "output_type": "stream",
     "text": [
      "Loss:\t\t 0.6465\n",
      "Accuracy:\t 0.9385\n",
      "Precision:\t 0.9385\n",
      "Recall:\t\t 0.9385\n"
     ]
    }
   ],
   "source": [
    "loss, accuracy, precision, recall = model.evaluate(x_test, y_test, verbose=0)\n",
    "\n",
    "print(\"Loss:\\t\\t {:.4f}\".format(loss))\n",
    "print(\"Accuracy:\\t {:.4f}\".format(accuracy))\n",
    "print(\"Precision:\\t {:.4f}\".format(precision))\n",
    "print(\"Recall:\\t\\t {:.4f}\".format(recall))"
   ]
  },
  {
   "cell_type": "code",
   "execution_count": null,
   "metadata": {},
   "outputs": [],
   "source": []
  }
 ],
 "metadata": {
  "kernelspec": {
   "display_name": "Python 3",
   "language": "python",
   "name": "python3"
  },
  "language_info": {
   "codemirror_mode": {
    "name": "ipython",
    "version": 3
   },
   "file_extension": ".py",
   "mimetype": "text/x-python",
   "name": "python",
   "nbconvert_exporter": "python",
   "pygments_lexer": "ipython3",
   "version": "3.7.0"
  }
 },
 "nbformat": 4,
 "nbformat_minor": 4
}
